{
 "cells": [
  {
   "cell_type": "code",
   "execution_count": 1,
   "id": "da9c5be3-accf-4d59-a953-b8e798f2b463",
   "metadata": {
    "editable": true,
    "slideshow": {
     "slide_type": ""
    },
    "tags": []
   },
   "outputs": [],
   "source": [
    "import pandas as pd\n",
    "import os \n",
    "from sqlalchemy import create_engine\n",
    "import logging\n",
    "import time"
   ]
  },
  {
   "cell_type": "code",
   "execution_count": 2,
   "id": "00f7e961-62c5-4aae-97a0-aabcab525b2c",
   "metadata": {
    "editable": true,
    "slideshow": {
     "slide_type": ""
    },
    "tags": []
   },
   "outputs": [],
   "source": [
    "logging.basicConfig(\n",
    "    filename=\"logs/ingestion_db.log\",\n",
    "    level=logging.DEBUG,\n",
    "    format=\"%(asctime)s - %(levelname)s - %(message)s\",\n",
    "    filemode=\"a\"\n",
    ")"
   ]
  },
  {
   "cell_type": "code",
   "execution_count": 3,
   "id": "3c301552-3dac-471f-9927-5883e0635878",
   "metadata": {
    "editable": true,
    "slideshow": {
     "slide_type": ""
    },
    "tags": []
   },
   "outputs": [],
   "source": [
    "engine = create_engine('sqlite:///inventory.db')"
   ]
  },
  {
   "cell_type": "code",
   "execution_count": 4,
   "id": "e1253dda-be1c-452f-9b61-a697ba091d18",
   "metadata": {
    "editable": true,
    "slideshow": {
     "slide_type": ""
    },
    "tags": []
   },
   "outputs": [],
   "source": [
    "def ingest_db(df, table_name, engine):\n",
    "  df.to_sql(table_name, con = engine, if_exists= 'replace', index=False)"
   ]
  },
  {
   "cell_type": "code",
   "execution_count": 5,
   "id": "de0fab0c-a4e6-44b0-a3e5-c83de672f93a",
   "metadata": {
    "editable": true,
    "slideshow": {
     "slide_type": ""
    },
    "tags": []
   },
   "outputs": [],
   "source": [
    "def load_raw_data():\n",
    "    '''this function will load CSVs as dataframe and ingest into db'''\n",
    "    start = time.time()\n",
    "    for file in os.listdir('data'):\n",
    "      if file.endswith(\".csv\"):\n",
    "            file_path = os.path.join('data', file)\n",
    "            df = pd.read_csv(file_path)\n",
    "            logging.info(f'Ingesting {file} in db')\n",
    "            ingest_db(df, file[:-4], engine)\n",
    "    end=time.time()\n",
    "    total_time=(end-start)/60\n",
    "    logging.info('------Ingestion Complete------')\n",
    "    logging.info(f'\\nTotal Time Taken: {total_time} minutes')"
   ]
  },
  {
   "cell_type": "code",
   "execution_count": 6,
   "id": "db997086-b300-4e13-a905-fe951d93fd0e",
   "metadata": {
    "editable": true,
    "slideshow": {
     "slide_type": ""
    },
    "tags": []
   },
   "outputs": [],
   "source": [
    "if __name__ == '__main__':\n",
    "    load_raw_data()"
   ]
  },
  {
   "cell_type": "code",
   "execution_count": null,
   "id": "a5ac80e5-24c2-4545-b45b-2c2b90ce3568",
   "metadata": {},
   "outputs": [],
   "source": []
  }
 ],
 "metadata": {
  "kernelspec": {
   "display_name": "Python 3 (ipykernel)",
   "language": "python",
   "name": "python3"
  },
  "language_info": {
   "codemirror_mode": {
    "name": "ipython",
    "version": 3
   },
   "file_extension": ".py",
   "mimetype": "text/x-python",
   "name": "python",
   "nbconvert_exporter": "python",
   "pygments_lexer": "ipython3",
   "version": "3.12.6"
  }
 },
 "nbformat": 4,
 "nbformat_minor": 5
}
